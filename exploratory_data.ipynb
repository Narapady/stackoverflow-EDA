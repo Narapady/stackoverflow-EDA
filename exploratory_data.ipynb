{
 "metadata": {
  "language_info": {
   "codemirror_mode": {
    "name": "ipython",
    "version": 3
   },
   "file_extension": ".py",
   "mimetype": "text/x-python",
   "name": "python",
   "nbconvert_exporter": "python",
   "pygments_lexer": "ipython3",
   "version": "3.8.5"
  },
  "orig_nbformat": 2,
  "kernelspec": {
   "name": "python385jvsc74a57bd08c03d0fe320ba32e87ec146cf627d054e13fa481ad050a28b68cf8f09939554b",
   "display_name": "Python 3.8.5 64-bit (conda)"
  }
 },
 "nbformat": 4,
 "nbformat_minor": 2,
 "cells": [
  {
   "source": [
    "# EDA on Stackoverflow Developer Survey"
   ],
   "cell_type": "markdown",
   "metadata": {}
  },
  {
   "cell_type": "code",
   "execution_count": 1,
   "metadata": {},
   "outputs": [],
   "source": [
    "!pip install opendatasets --upgrade --quiet"
   ]
  },
  {
   "source": [
    "# Download the dataset"
   ],
   "cell_type": "markdown",
   "metadata": {}
  },
  {
   "cell_type": "code",
   "execution_count": 2,
   "metadata": {},
   "outputs": [
    {
     "output_type": "stream",
     "name": "stderr",
     "text": [
      "0it [00:00, ?it/s]Downloading https://raw.githubusercontent.com/JovianML/opendatasets/master/data/stackoverflow-developer-survey-2020/survey_results_public.csv to ./stackoverflow-developer-survey-2020/survey_results_public.csv\n",
      "100%|█████████▉| 94511104/94603888 [00:54<00:00, 2011145.14it/s]\n",
      "0it [00:00, ?it/s]\u001b[ADownloading https://raw.githubusercontent.com/JovianML/opendatasets/master/data/stackoverflow-developer-survey-2020/survey_results_schema.csv to ./stackoverflow-developer-survey-2020/survey_results_schema.csv\n",
      "\n",
      "  0%|          | 0/8428 [00:00<?, ?it/s]\u001b[A\n",
      "\n",
      "0it [00:00, ?it/s]\u001b[A\u001b[ADownloading https://raw.githubusercontent.com/JovianML/opendatasets/master/data/stackoverflow-developer-survey-2020/README.txt to ./stackoverflow-developer-survey-2020/README.txt\n",
      "\n",
      "\n",
      "94609408it [01:10, 2011145.14it/s]                              "
     ]
    }
   ],
   "source": [
    "import opendatasets as od\n",
    "od.download('stackoverflow-developer-survey-2020')"
   ]
  },
  {
   "cell_type": "code",
   "execution_count": 3,
   "metadata": {},
   "outputs": [],
   "source": [
    "# Import necessary libraries\n",
    "import pandas as pd\n",
    "import numpy as np\n",
    "import matplotlib.pyplot as plt\n",
    "import seaborn as sns\n",
    "%matplotlib inline"
   ]
  },
  {
   "cell_type": "code",
   "execution_count": 21,
   "metadata": {},
   "outputs": [
    {
     "output_type": "execute_result",
     "data": {
      "text/plain": [
       "   Respondent                                         MainBranch Hobbyist  \\\n",
       "0           1                     I am a developer by profession      Yes   \n",
       "1           2                     I am a developer by profession       No   \n",
       "2           3                        I code primarily as a hobby      Yes   \n",
       "3           4                     I am a developer by profession      Yes   \n",
       "4           5  I used to be a developer by profession, but no...      Yes   \n",
       "5           6                     I am a developer by profession       No   \n",
       "6           7                     I am a developer by profession      Yes   \n",
       "7           8                     I am a developer by profession      Yes   \n",
       "8           9                     I am a developer by profession       No   \n",
       "9          10                     I am a developer by profession      Yes   \n",
       "\n",
       "    Age Age1stCode CompFreq  CompTotal  ConvertedComp             Country  \\\n",
       "0   NaN         13  Monthly        NaN            NaN             Germany   \n",
       "1   NaN         19      NaN        NaN            NaN      United Kingdom   \n",
       "2   NaN         15      NaN        NaN            NaN  Russian Federation   \n",
       "3  25.0         18      NaN        NaN            NaN             Albania   \n",
       "4  31.0         16      NaN        NaN            NaN       United States   \n",
       "5   NaN         14      NaN        NaN            NaN             Germany   \n",
       "6   NaN         18  Monthly        NaN            NaN               India   \n",
       "7  36.0         12   Yearly   116000.0       116000.0       United States   \n",
       "8  30.0         20      NaN        NaN            NaN             Tunisia   \n",
       "9  22.0         14   Yearly    25000.0        32315.0      United Kingdom   \n",
       "\n",
       "           CurrencyDesc  ...                  SurveyEase  \\\n",
       "0         European Euro  ...  Neither easy nor difficult   \n",
       "1        Pound sterling  ...                         NaN   \n",
       "2                   NaN  ...  Neither easy nor difficult   \n",
       "3          Albanian lek  ...                         NaN   \n",
       "4                   NaN  ...                        Easy   \n",
       "5         European Euro  ...  Neither easy nor difficult   \n",
       "6  United States dollar  ...                         NaN   \n",
       "7  United States dollar  ...                        Easy   \n",
       "8  United States dollar  ...  Neither easy nor difficult   \n",
       "9        Pound sterling  ...                        Easy   \n",
       "\n",
       "            SurveyLength Trans  \\\n",
       "0  Appropriate in length    No   \n",
       "1                    NaN   NaN   \n",
       "2  Appropriate in length   NaN   \n",
       "3                    NaN    No   \n",
       "4              Too short    No   \n",
       "5  Appropriate in length   NaN   \n",
       "6                    NaN   NaN   \n",
       "7  Appropriate in length    No   \n",
       "8  Appropriate in length    No   \n",
       "9  Appropriate in length    No   \n",
       "\n",
       "                                      UndergradMajor  WebframeDesireNextYear  \\\n",
       "0  Computer science, computer engineering, or sof...            ASP.NET Core   \n",
       "1  Computer science, computer engineering, or sof...                     NaN   \n",
       "2                                                NaN                     NaN   \n",
       "3  Computer science, computer engineering, or sof...                     NaN   \n",
       "4  Computer science, computer engineering, or sof...    Django;Ruby on Rails   \n",
       "5                                                NaN                React.js   \n",
       "6  Computer science, computer engineering, or sof...                     NaN   \n",
       "7  Computer science, computer engineering, or sof...  Django;React.js;Vue.js   \n",
       "8  Computer science, computer engineering, or sof...              Angular.js   \n",
       "9                          Mathematics or statistics            Flask;jQuery   \n",
       "\n",
       "     WebframeWorkedWith                             WelcomeChange WorkWeekHrs  \\\n",
       "0  ASP.NET;ASP.NET Core   Just as welcome now as I felt last year        50.0   \n",
       "1                   NaN  Somewhat more welcome now than last year         NaN   \n",
       "2                   NaN  Somewhat more welcome now than last year         NaN   \n",
       "3                   NaN  Somewhat less welcome now than last year        40.0   \n",
       "4         Ruby on Rails   Just as welcome now as I felt last year         NaN   \n",
       "5                   NaN                                       NaN         NaN   \n",
       "6                   NaN     A lot more welcome now than last year         NaN   \n",
       "7                 Flask   Just as welcome now as I felt last year        39.0   \n",
       "8                jQuery   Just as welcome now as I felt last year        50.0   \n",
       "9          Flask;jQuery  Somewhat more welcome now than last year        36.0   \n",
       "\n",
       "  YearsCode YearsCodePro  \n",
       "0        36           27  \n",
       "1         7            4  \n",
       "2         4          NaN  \n",
       "3         7            4  \n",
       "4        15            8  \n",
       "5         6            4  \n",
       "6         6            4  \n",
       "7        17           13  \n",
       "8         6            4  \n",
       "9         8            4  \n",
       "\n",
       "[10 rows x 61 columns]"
      ],
      "text/html": "<div>\n<style scoped>\n    .dataframe tbody tr th:only-of-type {\n        vertical-align: middle;\n    }\n\n    .dataframe tbody tr th {\n        vertical-align: top;\n    }\n\n    .dataframe thead th {\n        text-align: right;\n    }\n</style>\n<table border=\"1\" class=\"dataframe\">\n  <thead>\n    <tr style=\"text-align: right;\">\n      <th></th>\n      <th>Respondent</th>\n      <th>MainBranch</th>\n      <th>Hobbyist</th>\n      <th>Age</th>\n      <th>Age1stCode</th>\n      <th>CompFreq</th>\n      <th>CompTotal</th>\n      <th>ConvertedComp</th>\n      <th>Country</th>\n      <th>CurrencyDesc</th>\n      <th>...</th>\n      <th>SurveyEase</th>\n      <th>SurveyLength</th>\n      <th>Trans</th>\n      <th>UndergradMajor</th>\n      <th>WebframeDesireNextYear</th>\n      <th>WebframeWorkedWith</th>\n      <th>WelcomeChange</th>\n      <th>WorkWeekHrs</th>\n      <th>YearsCode</th>\n      <th>YearsCodePro</th>\n    </tr>\n  </thead>\n  <tbody>\n    <tr>\n      <th>0</th>\n      <td>1</td>\n      <td>I am a developer by profession</td>\n      <td>Yes</td>\n      <td>NaN</td>\n      <td>13</td>\n      <td>Monthly</td>\n      <td>NaN</td>\n      <td>NaN</td>\n      <td>Germany</td>\n      <td>European Euro</td>\n      <td>...</td>\n      <td>Neither easy nor difficult</td>\n      <td>Appropriate in length</td>\n      <td>No</td>\n      <td>Computer science, computer engineering, or sof...</td>\n      <td>ASP.NET Core</td>\n      <td>ASP.NET;ASP.NET Core</td>\n      <td>Just as welcome now as I felt last year</td>\n      <td>50.0</td>\n      <td>36</td>\n      <td>27</td>\n    </tr>\n    <tr>\n      <th>1</th>\n      <td>2</td>\n      <td>I am a developer by profession</td>\n      <td>No</td>\n      <td>NaN</td>\n      <td>19</td>\n      <td>NaN</td>\n      <td>NaN</td>\n      <td>NaN</td>\n      <td>United Kingdom</td>\n      <td>Pound sterling</td>\n      <td>...</td>\n      <td>NaN</td>\n      <td>NaN</td>\n      <td>NaN</td>\n      <td>Computer science, computer engineering, or sof...</td>\n      <td>NaN</td>\n      <td>NaN</td>\n      <td>Somewhat more welcome now than last year</td>\n      <td>NaN</td>\n      <td>7</td>\n      <td>4</td>\n    </tr>\n    <tr>\n      <th>2</th>\n      <td>3</td>\n      <td>I code primarily as a hobby</td>\n      <td>Yes</td>\n      <td>NaN</td>\n      <td>15</td>\n      <td>NaN</td>\n      <td>NaN</td>\n      <td>NaN</td>\n      <td>Russian Federation</td>\n      <td>NaN</td>\n      <td>...</td>\n      <td>Neither easy nor difficult</td>\n      <td>Appropriate in length</td>\n      <td>NaN</td>\n      <td>NaN</td>\n      <td>NaN</td>\n      <td>NaN</td>\n      <td>Somewhat more welcome now than last year</td>\n      <td>NaN</td>\n      <td>4</td>\n      <td>NaN</td>\n    </tr>\n    <tr>\n      <th>3</th>\n      <td>4</td>\n      <td>I am a developer by profession</td>\n      <td>Yes</td>\n      <td>25.0</td>\n      <td>18</td>\n      <td>NaN</td>\n      <td>NaN</td>\n      <td>NaN</td>\n      <td>Albania</td>\n      <td>Albanian lek</td>\n      <td>...</td>\n      <td>NaN</td>\n      <td>NaN</td>\n      <td>No</td>\n      <td>Computer science, computer engineering, or sof...</td>\n      <td>NaN</td>\n      <td>NaN</td>\n      <td>Somewhat less welcome now than last year</td>\n      <td>40.0</td>\n      <td>7</td>\n      <td>4</td>\n    </tr>\n    <tr>\n      <th>4</th>\n      <td>5</td>\n      <td>I used to be a developer by profession, but no...</td>\n      <td>Yes</td>\n      <td>31.0</td>\n      <td>16</td>\n      <td>NaN</td>\n      <td>NaN</td>\n      <td>NaN</td>\n      <td>United States</td>\n      <td>NaN</td>\n      <td>...</td>\n      <td>Easy</td>\n      <td>Too short</td>\n      <td>No</td>\n      <td>Computer science, computer engineering, or sof...</td>\n      <td>Django;Ruby on Rails</td>\n      <td>Ruby on Rails</td>\n      <td>Just as welcome now as I felt last year</td>\n      <td>NaN</td>\n      <td>15</td>\n      <td>8</td>\n    </tr>\n    <tr>\n      <th>5</th>\n      <td>6</td>\n      <td>I am a developer by profession</td>\n      <td>No</td>\n      <td>NaN</td>\n      <td>14</td>\n      <td>NaN</td>\n      <td>NaN</td>\n      <td>NaN</td>\n      <td>Germany</td>\n      <td>European Euro</td>\n      <td>...</td>\n      <td>Neither easy nor difficult</td>\n      <td>Appropriate in length</td>\n      <td>NaN</td>\n      <td>NaN</td>\n      <td>React.js</td>\n      <td>NaN</td>\n      <td>NaN</td>\n      <td>NaN</td>\n      <td>6</td>\n      <td>4</td>\n    </tr>\n    <tr>\n      <th>6</th>\n      <td>7</td>\n      <td>I am a developer by profession</td>\n      <td>Yes</td>\n      <td>NaN</td>\n      <td>18</td>\n      <td>Monthly</td>\n      <td>NaN</td>\n      <td>NaN</td>\n      <td>India</td>\n      <td>United States dollar</td>\n      <td>...</td>\n      <td>NaN</td>\n      <td>NaN</td>\n      <td>NaN</td>\n      <td>Computer science, computer engineering, or sof...</td>\n      <td>NaN</td>\n      <td>NaN</td>\n      <td>A lot more welcome now than last year</td>\n      <td>NaN</td>\n      <td>6</td>\n      <td>4</td>\n    </tr>\n    <tr>\n      <th>7</th>\n      <td>8</td>\n      <td>I am a developer by profession</td>\n      <td>Yes</td>\n      <td>36.0</td>\n      <td>12</td>\n      <td>Yearly</td>\n      <td>116000.0</td>\n      <td>116000.0</td>\n      <td>United States</td>\n      <td>United States dollar</td>\n      <td>...</td>\n      <td>Easy</td>\n      <td>Appropriate in length</td>\n      <td>No</td>\n      <td>Computer science, computer engineering, or sof...</td>\n      <td>Django;React.js;Vue.js</td>\n      <td>Flask</td>\n      <td>Just as welcome now as I felt last year</td>\n      <td>39.0</td>\n      <td>17</td>\n      <td>13</td>\n    </tr>\n    <tr>\n      <th>8</th>\n      <td>9</td>\n      <td>I am a developer by profession</td>\n      <td>No</td>\n      <td>30.0</td>\n      <td>20</td>\n      <td>NaN</td>\n      <td>NaN</td>\n      <td>NaN</td>\n      <td>Tunisia</td>\n      <td>United States dollar</td>\n      <td>...</td>\n      <td>Neither easy nor difficult</td>\n      <td>Appropriate in length</td>\n      <td>No</td>\n      <td>Computer science, computer engineering, or sof...</td>\n      <td>Angular.js</td>\n      <td>jQuery</td>\n      <td>Just as welcome now as I felt last year</td>\n      <td>50.0</td>\n      <td>6</td>\n      <td>4</td>\n    </tr>\n    <tr>\n      <th>9</th>\n      <td>10</td>\n      <td>I am a developer by profession</td>\n      <td>Yes</td>\n      <td>22.0</td>\n      <td>14</td>\n      <td>Yearly</td>\n      <td>25000.0</td>\n      <td>32315.0</td>\n      <td>United Kingdom</td>\n      <td>Pound sterling</td>\n      <td>...</td>\n      <td>Easy</td>\n      <td>Appropriate in length</td>\n      <td>No</td>\n      <td>Mathematics or statistics</td>\n      <td>Flask;jQuery</td>\n      <td>Flask;jQuery</td>\n      <td>Somewhat more welcome now than last year</td>\n      <td>36.0</td>\n      <td>8</td>\n      <td>4</td>\n    </tr>\n  </tbody>\n</table>\n<p>10 rows × 61 columns</p>\n</div>"
     },
     "metadata": {},
     "execution_count": 21
    }
   ],
   "source": [
    "df_raw = pd.read_csv('./stackoverflow-developer-survey-2020/survey_results_public.csv')\n",
    "df_raw.head(10)"
   ]
  },
  {
   "cell_type": "code",
   "execution_count": 23,
   "metadata": {},
   "outputs": [
    {
     "output_type": "stream",
     "name": "stdout",
     "text": [
      "61\n"
     ]
    },
    {
     "output_type": "execute_result",
     "data": {
      "text/plain": [
       "Index(['Respondent', 'MainBranch', 'Hobbyist', 'Age', 'Age1stCode', 'CompFreq',\n",
       "       'CompTotal', 'ConvertedComp', 'Country', 'CurrencyDesc',\n",
       "       'CurrencySymbol', 'DatabaseDesireNextYear', 'DatabaseWorkedWith',\n",
       "       'DevType', 'EdLevel', 'Employment', 'Ethnicity', 'Gender', 'JobFactors',\n",
       "       'JobSat', 'JobSeek', 'LanguageDesireNextYear', 'LanguageWorkedWith',\n",
       "       'MiscTechDesireNextYear', 'MiscTechWorkedWith',\n",
       "       'NEWCollabToolsDesireNextYear', 'NEWCollabToolsWorkedWith', 'NEWDevOps',\n",
       "       'NEWDevOpsImpt', 'NEWEdImpt', 'NEWJobHunt', 'NEWJobHuntResearch',\n",
       "       'NEWLearn', 'NEWOffTopic', 'NEWOnboardGood', 'NEWOtherComms',\n",
       "       'NEWOvertime', 'NEWPurchaseResearch', 'NEWPurpleLink', 'NEWSOSites',\n",
       "       'NEWStuck', 'OpSys', 'OrgSize', 'PlatformDesireNextYear',\n",
       "       'PlatformWorkedWith', 'PurchaseWhat', 'Sexuality', 'SOAccount',\n",
       "       'SOComm', 'SOPartFreq', 'SOVisitFreq', 'SurveyEase', 'SurveyLength',\n",
       "       'Trans', 'UndergradMajor', 'WebframeDesireNextYear',\n",
       "       'WebframeWorkedWith', 'WelcomeChange', 'WorkWeekHrs', 'YearsCode',\n",
       "       'YearsCodePro'],\n",
       "      dtype='object')"
      ]
     },
     "metadata": {},
     "execution_count": 23
    }
   ],
   "source": [
    "print(len(df_raw.columns))\n",
    "df_raw.columns"
   ]
  },
  {
   "cell_type": "code",
   "execution_count": 12,
   "metadata": {},
   "outputs": [
    {
     "output_type": "execute_result",
     "data": {
      "text/plain": [
       "Column\n",
       "Respondent            Randomized respondent ID number (not in order ...\n",
       "MainBranch            Which of the following options best describes ...\n",
       "Hobbyist                                        Do you code as a hobby?\n",
       "Age                   What is your age (in years)? If you prefer not...\n",
       "Age1stCode            At what age did you write your first line of c...\n",
       "                                            ...                        \n",
       "WebframeWorkedWith    Which web frameworks have you done extensive d...\n",
       "WelcomeChange         Compared to last year, how welcome do you feel...\n",
       "WorkWeekHrs           On average, how many hours per week do you wor...\n",
       "YearsCode             Including any education, how many years have y...\n",
       "YearsCodePro          NOT including education, how many years have y...\n",
       "Name: QuestionText, Length: 61, dtype: object"
      ]
     },
     "metadata": {},
     "execution_count": 12
    }
   ],
   "source": [
    "schema_df = pd.read_csv('./stackoverflow-developer-survey-2020/survey_results_schema.csv', index_col='Column')\n",
    "# Using schema_raw to retrieve questions\n",
    "schema_raw = schema_df.QuestionText\n",
    "schema_raw"
   ]
  },
  {
   "cell_type": "code",
   "execution_count": 13,
   "metadata": {},
   "outputs": [
    {
     "output_type": "execute_result",
     "data": {
      "text/plain": [
       "'NOT including education, how many years have you coded professionally (as a part of your work)?'"
      ]
     },
     "metadata": {},
     "execution_count": 13
    }
   ],
   "source": [
    "schema_raw['YearsCodePro']"
   ]
  },
  {
   "source": [
    "## Data Preparation & Cleaning\n",
    "### Limiting analysis to the following areas:\n",
    "- Demorgraphics of the survey respondents & the global programming community\n",
    "- Distribution of programming skills, experience and preferences\n",
    "- Employment-related inforamtion, preferences & opinions"
   ],
   "cell_type": "markdown",
   "metadata": {}
  },
  {
   "cell_type": "code",
   "execution_count": 25,
   "metadata": {},
   "outputs": [],
   "source": [
    "selected_columns = [\n",
    "    # Demographics\n",
    "    'Country',\n",
    "    'Age',\n",
    "    'Gender',\n",
    "    'EdLevel',\n",
    "    'UndergradMajor',\n",
    "    # Programming experience\n",
    "    'Hobbyist',\n",
    "    'Age1stCode',\n",
    "    'YearsCode',\n",
    "    'YearsCodePro',\n",
    "    'LanguageWorkedWith',\n",
    "    'LanguageDesireNextYear',\n",
    "    'NEWLearn',\n",
    "    'NEWStuck',\n",
    "    # Employment\n",
    "    'Employment',\n",
    "    'DevType',\n",
    "    'WorkWeekHrs',\n",
    "    'JobSat',\n",
    "    'JobFactors',\n",
    "    'NEWOvertime',\n",
    "    'NEWEdImpt'\n",
    "]"
   ]
  },
  {
   "cell_type": "code",
   "execution_count": 28,
   "metadata": {},
   "outputs": [
    {
     "output_type": "execute_result",
     "data": {
      "text/plain": [
       "              Country   Age Gender  \\\n",
       "0             Germany   NaN    Man   \n",
       "1      United Kingdom   NaN    NaN   \n",
       "2  Russian Federation   NaN    NaN   \n",
       "3             Albania  25.0    Man   \n",
       "4       United States  31.0    Man   \n",
       "5             Germany   NaN    Man   \n",
       "6               India   NaN    NaN   \n",
       "7       United States  36.0    Man   \n",
       "8             Tunisia  30.0    Man   \n",
       "9      United Kingdom  22.0    Man   \n",
       "\n",
       "                                             EdLevel  \\\n",
       "0    Master’s degree (M.A., M.S., M.Eng., MBA, etc.)   \n",
       "1       Bachelor’s degree (B.A., B.S., B.Eng., etc.)   \n",
       "2                                                NaN   \n",
       "3    Master’s degree (M.A., M.S., M.Eng., MBA, etc.)   \n",
       "4       Bachelor’s degree (B.A., B.S., B.Eng., etc.)   \n",
       "5  Secondary school (e.g. American high school, G...   \n",
       "6       Bachelor’s degree (B.A., B.S., B.Eng., etc.)   \n",
       "7       Bachelor’s degree (B.A., B.S., B.Eng., etc.)   \n",
       "8                 Professional degree (JD, MD, etc.)   \n",
       "9    Master’s degree (M.A., M.S., M.Eng., MBA, etc.)   \n",
       "\n",
       "                                      UndergradMajor Hobbyist Age1stCode  \\\n",
       "0  Computer science, computer engineering, or sof...      Yes         13   \n",
       "1  Computer science, computer engineering, or sof...       No         19   \n",
       "2                                                NaN      Yes         15   \n",
       "3  Computer science, computer engineering, or sof...      Yes         18   \n",
       "4  Computer science, computer engineering, or sof...      Yes         16   \n",
       "5                                                NaN       No         14   \n",
       "6  Computer science, computer engineering, or sof...      Yes         18   \n",
       "7  Computer science, computer engineering, or sof...      Yes         12   \n",
       "8  Computer science, computer engineering, or sof...       No         20   \n",
       "9                          Mathematics or statistics      Yes         14   \n",
       "\n",
       "  YearsCode YearsCodePro                   LanguageWorkedWith  \\\n",
       "0        36           27               C#;HTML/CSS;JavaScript   \n",
       "1         7            4                     JavaScript;Swift   \n",
       "2         4          NaN             Objective-C;Python;Swift   \n",
       "3         7            4                                  NaN   \n",
       "4        15            8                    HTML/CSS;Ruby;SQL   \n",
       "5         6            4             HTML/CSS;Java;JavaScript   \n",
       "6         6            4                      C#;HTML/CSS;PHP   \n",
       "7        17           13                           Python;SQL   \n",
       "8         6            4              HTML/CSS;JavaScript;PHP   \n",
       "9         8            4  HTML/CSS;Java;JavaScript;Python;SQL   \n",
       "\n",
       "                  LanguageDesireNextYear          NEWLearn  \\\n",
       "0                 C#;HTML/CSS;JavaScript       Once a year   \n",
       "1                           Python;Swift       Once a year   \n",
       "2               Objective-C;Python;Swift     Once a decade   \n",
       "3                                    NaN       Once a year   \n",
       "4                        Java;Ruby;Scala       Once a year   \n",
       "5               HTML/CSS;Java;JavaScript       Once a year   \n",
       "6                        C#;HTML/CSS;PHP  Every few months   \n",
       "7                             JavaScript       Once a year   \n",
       "8                            Python;Rust       Once a year   \n",
       "9  HTML/CSS;Java;JavaScript;Python;R;SQL  Every few months   \n",
       "\n",
       "                                            NEWStuck  \\\n",
       "0  Visit Stack Overflow;Go for a walk or other ph...   \n",
       "1  Visit Stack Overflow;Go for a walk or other ph...   \n",
       "2                                                NaN   \n",
       "3                                                NaN   \n",
       "4  Call a coworker or friend;Visit Stack Overflow...   \n",
       "5  Play games;Visit Stack Overflow;Watch help / t...   \n",
       "6                                                NaN   \n",
       "7  Play games;Call a coworker or friend;Visit Sta...   \n",
       "8                                           Meditate   \n",
       "9                               Visit Stack Overflow   \n",
       "\n",
       "                                          Employment  \\\n",
       "0  Independent contractor, freelancer, or self-em...   \n",
       "1                                 Employed full-time   \n",
       "2                                                NaN   \n",
       "3                                                NaN   \n",
       "4                                 Employed full-time   \n",
       "5                                 Employed full-time   \n",
       "6                                 Employed full-time   \n",
       "7                                 Employed full-time   \n",
       "8  Independent contractor, freelancer, or self-em...   \n",
       "9                                 Employed full-time   \n",
       "\n",
       "                                             DevType  WorkWeekHrs  \\\n",
       "0  Developer, desktop or enterprise applications;...         50.0   \n",
       "1            Developer, full-stack;Developer, mobile          NaN   \n",
       "2                                                NaN          NaN   \n",
       "3                                                NaN         40.0   \n",
       "4                                                NaN          NaN   \n",
       "5    Designer;Developer, front-end;Developer, mobile          NaN   \n",
       "6  Developer, back-end;Developer, front-end;Devel...          NaN   \n",
       "7  Developer, back-end;Developer, desktop or ente...         39.0   \n",
       "8                              Developer, full-stack         50.0   \n",
       "9  Database administrator;Developer, full-stack;D...         36.0   \n",
       "\n",
       "                  JobSat                                         JobFactors  \\\n",
       "0     Slightly satisfied  Languages, frameworks, and other technologies ...   \n",
       "1      Very dissatisfied                                                NaN   \n",
       "2                    NaN                                                NaN   \n",
       "3  Slightly dissatisfied  Flex time or a flexible schedule;Office enviro...   \n",
       "4                    NaN                                                NaN   \n",
       "5     Slightly satisfied  Diversity of the company or organization;Langu...   \n",
       "6         Very satisfied                                                NaN   \n",
       "7  Slightly dissatisfied  Remote work options;Opportunities for professi...   \n",
       "8      Very dissatisfied  Diversity of the company or organization;Remot...   \n",
       "9         Very satisfied  Flex time or a flexible schedule;How widely us...   \n",
       "\n",
       "                                         NEWOvertime  \\\n",
       "0                   Often: 1-2 days per week or more   \n",
       "1                                                NaN   \n",
       "2                                                NaN   \n",
       "3  Occasionally: 1-2 days per quarter but less th...   \n",
       "4                                                NaN   \n",
       "5                                              Never   \n",
       "6  Sometimes: 1-2 days per month but less than we...   \n",
       "7  Occasionally: 1-2 days per quarter but less th...   \n",
       "8  Occasionally: 1-2 days per quarter but less th...   \n",
       "9                   Often: 1-2 days per week or more   \n",
       "\n",
       "                            NEWEdImpt  \n",
       "0                    Fairly important  \n",
       "1                    Fairly important  \n",
       "2                                 NaN  \n",
       "3  Not at all important/not necessary  \n",
       "4                      Very important  \n",
       "5                    Fairly important  \n",
       "6                      Very important  \n",
       "7  Not at all important/not necessary  \n",
       "8                      Very important  \n",
       "9                    Fairly important  "
      ],
      "text/html": "<div>\n<style scoped>\n    .dataframe tbody tr th:only-of-type {\n        vertical-align: middle;\n    }\n\n    .dataframe tbody tr th {\n        vertical-align: top;\n    }\n\n    .dataframe thead th {\n        text-align: right;\n    }\n</style>\n<table border=\"1\" class=\"dataframe\">\n  <thead>\n    <tr style=\"text-align: right;\">\n      <th></th>\n      <th>Country</th>\n      <th>Age</th>\n      <th>Gender</th>\n      <th>EdLevel</th>\n      <th>UndergradMajor</th>\n      <th>Hobbyist</th>\n      <th>Age1stCode</th>\n      <th>YearsCode</th>\n      <th>YearsCodePro</th>\n      <th>LanguageWorkedWith</th>\n      <th>LanguageDesireNextYear</th>\n      <th>NEWLearn</th>\n      <th>NEWStuck</th>\n      <th>Employment</th>\n      <th>DevType</th>\n      <th>WorkWeekHrs</th>\n      <th>JobSat</th>\n      <th>JobFactors</th>\n      <th>NEWOvertime</th>\n      <th>NEWEdImpt</th>\n    </tr>\n  </thead>\n  <tbody>\n    <tr>\n      <th>0</th>\n      <td>Germany</td>\n      <td>NaN</td>\n      <td>Man</td>\n      <td>Master’s degree (M.A., M.S., M.Eng., MBA, etc.)</td>\n      <td>Computer science, computer engineering, or sof...</td>\n      <td>Yes</td>\n      <td>13</td>\n      <td>36</td>\n      <td>27</td>\n      <td>C#;HTML/CSS;JavaScript</td>\n      <td>C#;HTML/CSS;JavaScript</td>\n      <td>Once a year</td>\n      <td>Visit Stack Overflow;Go for a walk or other ph...</td>\n      <td>Independent contractor, freelancer, or self-em...</td>\n      <td>Developer, desktop or enterprise applications;...</td>\n      <td>50.0</td>\n      <td>Slightly satisfied</td>\n      <td>Languages, frameworks, and other technologies ...</td>\n      <td>Often: 1-2 days per week or more</td>\n      <td>Fairly important</td>\n    </tr>\n    <tr>\n      <th>1</th>\n      <td>United Kingdom</td>\n      <td>NaN</td>\n      <td>NaN</td>\n      <td>Bachelor’s degree (B.A., B.S., B.Eng., etc.)</td>\n      <td>Computer science, computer engineering, or sof...</td>\n      <td>No</td>\n      <td>19</td>\n      <td>7</td>\n      <td>4</td>\n      <td>JavaScript;Swift</td>\n      <td>Python;Swift</td>\n      <td>Once a year</td>\n      <td>Visit Stack Overflow;Go for a walk or other ph...</td>\n      <td>Employed full-time</td>\n      <td>Developer, full-stack;Developer, mobile</td>\n      <td>NaN</td>\n      <td>Very dissatisfied</td>\n      <td>NaN</td>\n      <td>NaN</td>\n      <td>Fairly important</td>\n    </tr>\n    <tr>\n      <th>2</th>\n      <td>Russian Federation</td>\n      <td>NaN</td>\n      <td>NaN</td>\n      <td>NaN</td>\n      <td>NaN</td>\n      <td>Yes</td>\n      <td>15</td>\n      <td>4</td>\n      <td>NaN</td>\n      <td>Objective-C;Python;Swift</td>\n      <td>Objective-C;Python;Swift</td>\n      <td>Once a decade</td>\n      <td>NaN</td>\n      <td>NaN</td>\n      <td>NaN</td>\n      <td>NaN</td>\n      <td>NaN</td>\n      <td>NaN</td>\n      <td>NaN</td>\n      <td>NaN</td>\n    </tr>\n    <tr>\n      <th>3</th>\n      <td>Albania</td>\n      <td>25.0</td>\n      <td>Man</td>\n      <td>Master’s degree (M.A., M.S., M.Eng., MBA, etc.)</td>\n      <td>Computer science, computer engineering, or sof...</td>\n      <td>Yes</td>\n      <td>18</td>\n      <td>7</td>\n      <td>4</td>\n      <td>NaN</td>\n      <td>NaN</td>\n      <td>Once a year</td>\n      <td>NaN</td>\n      <td>NaN</td>\n      <td>NaN</td>\n      <td>40.0</td>\n      <td>Slightly dissatisfied</td>\n      <td>Flex time or a flexible schedule;Office enviro...</td>\n      <td>Occasionally: 1-2 days per quarter but less th...</td>\n      <td>Not at all important/not necessary</td>\n    </tr>\n    <tr>\n      <th>4</th>\n      <td>United States</td>\n      <td>31.0</td>\n      <td>Man</td>\n      <td>Bachelor’s degree (B.A., B.S., B.Eng., etc.)</td>\n      <td>Computer science, computer engineering, or sof...</td>\n      <td>Yes</td>\n      <td>16</td>\n      <td>15</td>\n      <td>8</td>\n      <td>HTML/CSS;Ruby;SQL</td>\n      <td>Java;Ruby;Scala</td>\n      <td>Once a year</td>\n      <td>Call a coworker or friend;Visit Stack Overflow...</td>\n      <td>Employed full-time</td>\n      <td>NaN</td>\n      <td>NaN</td>\n      <td>NaN</td>\n      <td>NaN</td>\n      <td>NaN</td>\n      <td>Very important</td>\n    </tr>\n    <tr>\n      <th>5</th>\n      <td>Germany</td>\n      <td>NaN</td>\n      <td>Man</td>\n      <td>Secondary school (e.g. American high school, G...</td>\n      <td>NaN</td>\n      <td>No</td>\n      <td>14</td>\n      <td>6</td>\n      <td>4</td>\n      <td>HTML/CSS;Java;JavaScript</td>\n      <td>HTML/CSS;Java;JavaScript</td>\n      <td>Once a year</td>\n      <td>Play games;Visit Stack Overflow;Watch help / t...</td>\n      <td>Employed full-time</td>\n      <td>Designer;Developer, front-end;Developer, mobile</td>\n      <td>NaN</td>\n      <td>Slightly satisfied</td>\n      <td>Diversity of the company or organization;Langu...</td>\n      <td>Never</td>\n      <td>Fairly important</td>\n    </tr>\n    <tr>\n      <th>6</th>\n      <td>India</td>\n      <td>NaN</td>\n      <td>NaN</td>\n      <td>Bachelor’s degree (B.A., B.S., B.Eng., etc.)</td>\n      <td>Computer science, computer engineering, or sof...</td>\n      <td>Yes</td>\n      <td>18</td>\n      <td>6</td>\n      <td>4</td>\n      <td>C#;HTML/CSS;PHP</td>\n      <td>C#;HTML/CSS;PHP</td>\n      <td>Every few months</td>\n      <td>NaN</td>\n      <td>Employed full-time</td>\n      <td>Developer, back-end;Developer, front-end;Devel...</td>\n      <td>NaN</td>\n      <td>Very satisfied</td>\n      <td>NaN</td>\n      <td>Sometimes: 1-2 days per month but less than we...</td>\n      <td>Very important</td>\n    </tr>\n    <tr>\n      <th>7</th>\n      <td>United States</td>\n      <td>36.0</td>\n      <td>Man</td>\n      <td>Bachelor’s degree (B.A., B.S., B.Eng., etc.)</td>\n      <td>Computer science, computer engineering, or sof...</td>\n      <td>Yes</td>\n      <td>12</td>\n      <td>17</td>\n      <td>13</td>\n      <td>Python;SQL</td>\n      <td>JavaScript</td>\n      <td>Once a year</td>\n      <td>Play games;Call a coworker or friend;Visit Sta...</td>\n      <td>Employed full-time</td>\n      <td>Developer, back-end;Developer, desktop or ente...</td>\n      <td>39.0</td>\n      <td>Slightly dissatisfied</td>\n      <td>Remote work options;Opportunities for professi...</td>\n      <td>Occasionally: 1-2 days per quarter but less th...</td>\n      <td>Not at all important/not necessary</td>\n    </tr>\n    <tr>\n      <th>8</th>\n      <td>Tunisia</td>\n      <td>30.0</td>\n      <td>Man</td>\n      <td>Professional degree (JD, MD, etc.)</td>\n      <td>Computer science, computer engineering, or sof...</td>\n      <td>No</td>\n      <td>20</td>\n      <td>6</td>\n      <td>4</td>\n      <td>HTML/CSS;JavaScript;PHP</td>\n      <td>Python;Rust</td>\n      <td>Once a year</td>\n      <td>Meditate</td>\n      <td>Independent contractor, freelancer, or self-em...</td>\n      <td>Developer, full-stack</td>\n      <td>50.0</td>\n      <td>Very dissatisfied</td>\n      <td>Diversity of the company or organization;Remot...</td>\n      <td>Occasionally: 1-2 days per quarter but less th...</td>\n      <td>Very important</td>\n    </tr>\n    <tr>\n      <th>9</th>\n      <td>United Kingdom</td>\n      <td>22.0</td>\n      <td>Man</td>\n      <td>Master’s degree (M.A., M.S., M.Eng., MBA, etc.)</td>\n      <td>Mathematics or statistics</td>\n      <td>Yes</td>\n      <td>14</td>\n      <td>8</td>\n      <td>4</td>\n      <td>HTML/CSS;Java;JavaScript;Python;SQL</td>\n      <td>HTML/CSS;Java;JavaScript;Python;R;SQL</td>\n      <td>Every few months</td>\n      <td>Visit Stack Overflow</td>\n      <td>Employed full-time</td>\n      <td>Database administrator;Developer, full-stack;D...</td>\n      <td>36.0</td>\n      <td>Very satisfied</td>\n      <td>Flex time or a flexible schedule;How widely us...</td>\n      <td>Often: 1-2 days per week or more</td>\n      <td>Fairly important</td>\n    </tr>\n  </tbody>\n</table>\n</div>"
     },
     "metadata": {},
     "execution_count": 28
    }
   ],
   "source": [
    "# Filter only selected columns\n",
    "df = df_raw[selected_columns]\n",
    "df.head(10)"
   ]
  },
  {
   "cell_type": "code",
   "execution_count": 29,
   "metadata": {},
   "outputs": [
    {
     "output_type": "execute_result",
     "data": {
      "text/plain": [
       "                Age   WorkWeekHrs\n",
       "count  45446.000000  41151.000000\n",
       "mean      30.834111     40.782174\n",
       "std        9.585392     17.816383\n",
       "min        1.000000      1.000000\n",
       "25%       24.000000     40.000000\n",
       "50%       29.000000     40.000000\n",
       "75%       35.000000     44.000000\n",
       "max      279.000000    475.000000"
      ],
      "text/html": "<div>\n<style scoped>\n    .dataframe tbody tr th:only-of-type {\n        vertical-align: middle;\n    }\n\n    .dataframe tbody tr th {\n        vertical-align: top;\n    }\n\n    .dataframe thead th {\n        text-align: right;\n    }\n</style>\n<table border=\"1\" class=\"dataframe\">\n  <thead>\n    <tr style=\"text-align: right;\">\n      <th></th>\n      <th>Age</th>\n      <th>WorkWeekHrs</th>\n    </tr>\n  </thead>\n  <tbody>\n    <tr>\n      <th>count</th>\n      <td>45446.000000</td>\n      <td>41151.000000</td>\n    </tr>\n    <tr>\n      <th>mean</th>\n      <td>30.834111</td>\n      <td>40.782174</td>\n    </tr>\n    <tr>\n      <th>std</th>\n      <td>9.585392</td>\n      <td>17.816383</td>\n    </tr>\n    <tr>\n      <th>min</th>\n      <td>1.000000</td>\n      <td>1.000000</td>\n    </tr>\n    <tr>\n      <th>25%</th>\n      <td>24.000000</td>\n      <td>40.000000</td>\n    </tr>\n    <tr>\n      <th>50%</th>\n      <td>29.000000</td>\n      <td>40.000000</td>\n    </tr>\n    <tr>\n      <th>75%</th>\n      <td>35.000000</td>\n      <td>44.000000</td>\n    </tr>\n    <tr>\n      <th>max</th>\n      <td>279.000000</td>\n      <td>475.000000</td>\n    </tr>\n  </tbody>\n</table>\n</div>"
     },
     "metadata": {},
     "execution_count": 29
    }
   ],
   "source": [
    "df.describe()"
   ]
  },
  {
   "cell_type": "code",
   "execution_count": 30,
   "metadata": {},
   "outputs": [
    {
     "output_type": "stream",
     "name": "stdout",
     "text": [
      "<class 'pandas.core.frame.DataFrame'>\nRangeIndex: 64461 entries, 0 to 64460\nData columns (total 20 columns):\n #   Column                  Non-Null Count  Dtype  \n---  ------                  --------------  -----  \n 0   Country                 64072 non-null  object \n 1   Age                     45446 non-null  float64\n 2   Gender                  50557 non-null  object \n 3   EdLevel                 57431 non-null  object \n 4   UndergradMajor          50995 non-null  object \n 5   Hobbyist                64416 non-null  object \n 6   Age1stCode              57900 non-null  object \n 7   YearsCode               57684 non-null  object \n 8   YearsCodePro            46349 non-null  object \n 9   LanguageWorkedWith      57378 non-null  object \n 10  LanguageDesireNextYear  54113 non-null  object \n 11  NEWLearn                56156 non-null  object \n 12  NEWStuck                54983 non-null  object \n 13  Employment              63854 non-null  object \n 14  DevType                 49370 non-null  object \n 15  WorkWeekHrs             41151 non-null  float64\n 16  JobSat                  45194 non-null  object \n 17  JobFactors              49349 non-null  object \n 18  NEWOvertime             43231 non-null  object \n 19  NEWEdImpt               48465 non-null  object \ndtypes: float64(2), object(18)\nmemory usage: 9.8+ MB\n"
     ]
    }
   ],
   "source": [
    "df.info()"
   ]
  },
  {
   "cell_type": "code",
   "execution_count": 36,
   "metadata": {},
   "outputs": [
    {
     "output_type": "execute_result",
     "data": {
      "text/plain": [
       "Country                     389\n",
       "Age                       19015\n",
       "Gender                    13904\n",
       "EdLevel                    7030\n",
       "UndergradMajor            13466\n",
       "Hobbyist                     45\n",
       "Age1stCode                 6561\n",
       "YearsCode                  6777\n",
       "YearsCodePro              18112\n",
       "LanguageWorkedWith         7083\n",
       "LanguageDesireNextYear    10348\n",
       "NEWLearn                   8305\n",
       "NEWStuck                   9478\n",
       "Employment                  607\n",
       "DevType                   15091\n",
       "WorkWeekHrs               23310\n",
       "JobSat                    19267\n",
       "JobFactors                15112\n",
       "NEWOvertime               21230\n",
       "NEWEdImpt                 15996\n",
       "dtype: int64"
      ]
     },
     "metadata": {},
     "execution_count": 36
    }
   ],
   "source": [
    "df.isnull().sum()"
   ]
  },
  {
   "cell_type": "code",
   "execution_count": null,
   "metadata": {},
   "outputs": [],
   "source": []
  }
 ]
}